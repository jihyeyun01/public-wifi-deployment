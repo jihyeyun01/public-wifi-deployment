{
 "cells": [
  {
   "cell_type": "code",
   "execution_count": 29,
   "id": "a6a20b39",
   "metadata": {},
   "outputs": [],
   "source": [
    "from geoband.API import *\n",
    "\n",
    "def download_data():\n",
    "    GetCompasData('SBJ_2307_003', '1', 'data/1.김해시_성연령별_유동인구.csv')\n",
    "    GetCompasData('SBJ_2307_003', '2', 'data/2.김해시_시간대별_유동인구.csv')\n",
    "    GetCompasData('SBJ_2307_003', '3', 'data/3.김해시_요일별_유동인구.csv')\n",
    "    GetCompasData('SBJ_2307_003', '4', 'data/4.김해시_공공wifi_위치정보.csv')\n",
    "    GetCompasData('SBJ_2307_003', '5', 'data/5.김해시_공공wifi_사용량.csv')\n",
    "    GetCompasData('SBJ_2307_003', '6', 'data/6.김해시_CCTV설치현황.csv')\n",
    "    GetCompasData('SBJ_2307_003', '7', 'data/7.김해시_안전비상벨설치현황.csv')\n",
    "    GetCompasData('SBJ_2307_003', '8', 'data/8.김해시_보안등설치현황.csv')\n",
    "    GetCompasData('SBJ_2307_003', '9', 'data/9.김해시_신호등설치현황.csv')\n",
    "    GetCompasData('SBJ_2307_003', '10', 'data/10.김해시_상세도로망.geojson')\n",
    "    GetCompasData('SBJ_2307_003', '11', 'data/11.김해시_실폭도로.geojson')\n",
    "    GetCompasData('SBJ_2307_003', '12', 'data/12.김해시_버스정류장_위치정보.csv')\n",
    "    GetCompasData('SBJ_2307_003', '13', 'data/13.김해시_버스정류장_승하차이력.csv')\n",
    "    GetCompasData('SBJ_2307_003', '14', 'data/14.김해시_경전철역현황.csv')\n",
    "    GetCompasData('SBJ_2307_003', '15', 'data/15.김해시_경전철역별_승하차이력.csv')\n",
    "    GetCompasData('SBJ_2307_003', '16', 'data/16.김해시_버스노선별_wifi사용량.csv')\n",
    "    GetCompasData('SBJ_2307_003', '17', 'data/17.김해시_공원현황.csv')\n",
    "    GetCompasData('SBJ_2307_003', '18', 'data/18.김해시_주변관광지정보(문화재).geojson')\n",
    "    GetCompasData('SBJ_2307_003', '19', 'data/19.김해시_상권정보.csv')\n",
    "    GetCompasData('SBJ_2307_003', '20', 'data/20.김해시_법정경계.geojson')\n",
    "    GetCompasData('SBJ_2307_003', '21', 'data/21.김해시_행정경계.geojson')\n",
    "    GetCompasData('SBJ_2307_003', '22', 'data/22.김해시_격자(매핑용).geojson')\n",
    "    GetCompasData('SBJ_2307_003', '23', 'data/23.김해시_토지소유정보.geojson')\n",
    "    GetCompasData('SBJ_2307_003', '24', 'data/24.김해시_연속지적도.geojson')\n",
    "    GetCompasData('SBJ_2307_003', '25', 'data/25.김해시_공공wifi설치버스정류장별_Wifi사용량(NIA).csv')"
   ]
  },
  {
   "cell_type": "code",
   "execution_count": 30,
   "id": "f335a972",
   "metadata": {},
   "outputs": [
    {
     "name": "stdout",
     "output_type": "stream",
     "text": [
      "[2023-09-11 14:11:49] 성공 - data/1.김해시_성연령별_유동인구.csv\n",
      "[2023-09-11 14:11:56] 성공 - data/2.김해시_시간대별_유동인구.csv\n",
      "[2023-09-11 14:12:01] 성공 - data/3.김해시_요일별_유동인구.csv\n",
      "[2023-09-11 14:12:01] 성공 - data/4.김해시_공공wifi_위치정보.csv\n",
      "[2023-09-11 14:12:01] 성공 - data/5.김해시_공공wifi_사용량.csv\n",
      "[2023-09-11 14:12:01] 성공 - data/6.김해시_CCTV설치현황.csv\n",
      "[2023-09-11 14:12:01] 성공 - data/7.김해시_안전비상벨설치현황.csv\n",
      "[2023-09-11 14:12:01] 성공 - data/8.김해시_보안등설치현황.csv\n",
      "[2023-09-11 14:12:01] 성공 - data/9.김해시_신호등설치현황.csv\n",
      "[2023-09-11 14:12:01] 성공 - data/10.김해시_상세도로망.geojson\n",
      "[2023-09-11 14:12:02] 성공 - data/11.김해시_실폭도로.geojson\n",
      "[2023-09-11 14:12:02] 성공 - data/12.김해시_버스정류장_위치정보.csv\n",
      "[2023-09-11 14:12:02] 성공 - data/13.김해시_버스정류장_승하차이력.csv\n",
      "[2023-09-11 14:12:02] 성공 - data/14.김해시_경전철역현황.csv\n",
      "[2023-09-11 14:12:02] 성공 - data/15.김해시_경전철역별_승하차이력.csv\n",
      "[2023-09-11 14:12:02] 성공 - data/16.김해시_버스노선별_wifi사용량.csv\n",
      "[2023-09-11 14:12:02] 성공 - data/17.김해시_공원현황.csv\n",
      "[2023-09-11 14:12:02] 성공 - data/18.김해시_주변관광지정보(문화재).geojson\n",
      "[2023-09-11 14:12:02] 성공 - data/19.김해시_상권정보.csv\n",
      "[2023-09-11 14:12:03] 성공 - data/20.김해시_법정경계.geojson\n",
      "[2023-09-11 14:12:03] 성공 - data/21.김해시_행정경계.geojson\n",
      "[2023-09-11 14:12:03] 성공 - data/22.김해시_격자(매핑용).geojson\n",
      "[2023-09-11 14:12:08] 성공 - data/23.김해시_토지소유정보.geojson\n",
      "[2023-09-11 14:12:12] 성공 - data/24.김해시_연속지적도.geojson\n",
      "[2023-09-11 14:12:12] 성공 - data/25.김해시_공공wifi설치버스정류장별_Wifi사용량(NIA).csv\n"
     ]
    }
   ],
   "source": [
    "download_data()"
   ]
  }
 ],
 "metadata": {
  "kernelspec": {
   "display_name": "Python 3",
   "language": "python",
   "name": "python3"
  },
  "language_info": {
   "codemirror_mode": {
    "name": "ipython",
    "version": 3
   },
   "file_extension": ".py",
   "mimetype": "text/x-python",
   "name": "python",
   "nbconvert_exporter": "python",
   "pygments_lexer": "ipython3",
   "version": "3.6.9"
  }
 },
 "nbformat": 4,
 "nbformat_minor": 5
}
